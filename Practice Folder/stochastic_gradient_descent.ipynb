{
 "cells": [
  {
   "cell_type": "code",
   "execution_count": 1,
   "id": "e8dc2bdc",
   "metadata": {},
   "outputs": [],
   "source": [
    "from sklearn.datasets import load_diabetes\n",
    "import pandas as pd\n",
    "import numpy as np\n"
   ]
  },
  {
   "cell_type": "code",
   "execution_count": 2,
   "id": "a0471c68",
   "metadata": {},
   "outputs": [],
   "source": [
    "diabetes = load_diabetes()\n",
    "X= diabetes.data\n",
    "y = diabetes.target\n"
   ]
  },
  {
   "cell_type": "code",
   "execution_count": 3,
   "id": "7c167168",
   "metadata": {},
   "outputs": [],
   "source": [
    "from sklearn.model_selection import train_test_split\n",
    "X_train,X_test,y_train,y_test = train_test_split(X,y,test_size=0.2, random_state=42)"
   ]
  },
  {
   "cell_type": "code",
   "execution_count": 5,
   "id": "903fa1d9",
   "metadata": {},
   "outputs": [],
   "source": [
    "assert X_train.shape[0] == y_train.shape[0]\n",
    "assert X_test.shape[0] == y_test.shape[0]"
   ]
  },
  {
   "cell_type": "code",
   "execution_count": 24,
   "id": "9a3dac86",
   "metadata": {},
   "outputs": [],
   "source": [
    "class StochasticGD:\n",
    "    def __init__(self,lr= 0.001, epochs = 1000):\n",
    "        self.theta = None\n",
    "        self.lr = lr \n",
    "        self.epochs = epochs\n",
    "        \n",
    "    def fit(self,X_train,y_train):\n",
    "        intercept = np.ones((X_train.shape[0],1))\n",
    "        X_train = np.concatenate((intercept,X_train), axis = 1)\n",
    "        if self.theta is None:\n",
    "            self.theta = np.zeros((X_train.shape[1]))\n",
    "        for epoch in range(self.epochs):\n",
    "            for batch_idx in range(X_train.shape[0]):\n",
    "                X_trained  = X_train[batch_idx].reshape(1,-1)\n",
    "                y_trained = y_train[batch_idx]\n",
    "                y_hat  = X_trained@self.theta\n",
    "                grad = X_trained.T @ (y_hat - y_trained)\n",
    "                self.theta = self.theta - self.lr * grad\n",
    "        return self.theta\n",
    "\n",
    "    def predict(self,X_test):\n",
    "        intercept = np.ones((X_test.shape[0],1))\n",
    "        X_test = np.concatenate((intercept,X_test),axis = 1)\n",
    "        y_pred = X_test @ self.theta\n",
    "        return y_pred\n",
    "                \n",
    "            "
   ]
  },
  {
   "cell_type": "code",
   "execution_count": 25,
   "id": "79b5d890",
   "metadata": {},
   "outputs": [],
   "source": [
    "sgd = StochasticGD()"
   ]
  },
  {
   "cell_type": "code",
   "execution_count": 26,
   "id": "21942119",
   "metadata": {},
   "outputs": [
    {
     "data": {
      "text/plain": [
       "array([ 151.47508605,   57.45960802,  -92.17541123,  363.26956721,\n",
       "        251.09600678,   -0.62095279,  -37.64117502, -182.7766359 ,\n",
       "        148.84441618,  286.45090239,  148.34845939])"
      ]
     },
     "execution_count": 26,
     "metadata": {},
     "output_type": "execute_result"
    }
   ],
   "source": [
    "sgd.fit(X_train,y_train)"
   ]
  },
  {
   "cell_type": "code",
   "execution_count": 27,
   "id": "8017ec3d",
   "metadata": {},
   "outputs": [],
   "source": [
    "y_pred = sgd.predict(X_test)"
   ]
  },
  {
   "cell_type": "code",
   "execution_count": 28,
   "id": "ad4eed99",
   "metadata": {},
   "outputs": [],
   "source": [
    "from sklearn.metrics import mean_absolute_error, r2_score\n",
    "mse = mean_absolute_error(y_test,y_pred)\n",
    "r2 = r2_score(y_test,y_pred)"
   ]
  },
  {
   "cell_type": "code",
   "execution_count": 29,
   "id": "ff9f391e",
   "metadata": {},
   "outputs": [
    {
     "name": "stdout",
     "output_type": "stream",
     "text": [
      "44.08380042574624\n",
      "0.44716370280149775\n"
     ]
    }
   ],
   "source": [
    "print(mse)\n",
    "print(r2)"
   ]
  },
  {
   "cell_type": "code",
   "execution_count": null,
   "id": "4646dc81",
   "metadata": {},
   "outputs": [],
   "source": []
  }
 ],
 "metadata": {
  "kernelspec": {
   "display_name": "myConda",
   "language": "python",
   "name": "python3"
  },
  "language_info": {
   "codemirror_mode": {
    "name": "ipython",
    "version": 3
   },
   "file_extension": ".py",
   "mimetype": "text/x-python",
   "name": "python",
   "nbconvert_exporter": "python",
   "pygments_lexer": "ipython3",
   "version": "3.11.13"
  }
 },
 "nbformat": 4,
 "nbformat_minor": 5
}
